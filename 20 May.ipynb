{
 "cells": [
  {
   "cell_type": "code",
   "execution_count": 6,
   "id": "5f7e1cb2",
   "metadata": {},
   "outputs": [],
   "source": [
    "# Q.1.What are keywords in python? Using the keyword library, print all the python keywords.\n",
    "\n",
    "# Ans: These are special reserved words that have specific meanings and purposes in python.\n",
    "# keyword. kwlist\n",
    "\n"
   ]
  },
  {
   "cell_type": "code",
   "execution_count": null,
   "id": "0bb5d5eb",
   "metadata": {},
   "outputs": [],
   "source": [
    "\n",
    "# Q.2.What are the rules to create variables in python?\n",
    "\n",
    "# 1.The first character of the variable can be an alphabet or (_) underscore.\n",
    "# 2.Special characters (@, #, %, ^, &, *) should not be used in variable name.\n",
    "# 3.Variable names are case sensitive.\n",
    "# 4.keywords cannot be declared as variables.\n",
    "\n"
   ]
  },
  {
   "cell_type": "code",
   "execution_count": null,
   "id": "15eba379",
   "metadata": {},
   "outputs": [],
   "source": [
    "# Q.3.What are the standards and conventions followed for the nomenclature of variables in python to improve code readability and maintainability?\n",
    "# the names of variables should be lowercase. Individual words can be separated by underscores when needed. Use names that are representative of the meaning of the object rather than meaningless, single-character names\n"
   ]
  },
  {
   "cell_type": "code",
   "execution_count": null,
   "id": "692cc166",
   "metadata": {},
   "outputs": [],
   "source": [
    "# Q.4.What will happen if a keyword is used as a variable name?\n",
    "#  it would be very hard to tell for the developers and the compilers whether something was a variable or a keyword\n"
   ]
  },
  {
   "cell_type": "code",
   "execution_count": null,
   "id": "24eb8491",
   "metadata": {},
   "outputs": [],
   "source": [
    "# Q.5.\tFor what purpose def keyword is used?\n",
    "# Used to define a function in python"
   ]
  },
  {
   "cell_type": "code",
   "execution_count": null,
   "id": "dac420a4",
   "metadata": {},
   "outputs": [],
   "source": [
    "# Q.6.\tWhat is the operation of this special character ‘\\’?\n",
    "# the backslash \"\\\" is a special character, also called the \"escape\" character. It is used in representing certain whitespace characters: \"\\t\" is a tab and \"\\n\" is a newline. Also, prefixing a special character with \"\\\" turns it into an ordinary character.\n"
   ]
  },
  {
   "cell_type": "code",
   "execution_count": null,
   "id": "f3a0bc52",
   "metadata": {},
   "outputs": [],
   "source": [
    "# Q.7.\tGive an example of the following conditions:\n",
    "# (i)\tHomogeneous list\n",
    "# (ii)\tHeterogeneous set\n",
    "# (iii)\tHomogeneous tuple\n",
    "\n",
    "# (i)\t[1,2,3,4,5,6,7,8,9,289,2,3,3,4]\n",
    "# (ii)\t{\"apple\", \"banana\", \"cherry\"}\n",
    "# (iii)\t(1,2,3,4,5,6,7,8,9,289,2,3,3,4)\n"
   ]
  },
  {
   "cell_type": "code",
   "execution_count": null,
   "id": "0f434b5f",
   "metadata": {},
   "outputs": [],
   "source": [
    "# Q.8.\tExplain the mutable and immutable data types with proper explanation & examples.\n",
    "#  The term \"mutable\" in Python refers to an object's capacity to modify its values. These are frequently the things that hold a data collection. Example List\n",
    "\n",
    "# A Python object is referred to as immutable if we cannot change its value over time. The value of these Python objects is fixed once they are made. Example Tuple\n"
   ]
  },
  {
   "cell_type": "code",
   "execution_count": 5,
   "id": "cc5ecccd",
   "metadata": {},
   "outputs": [
    {
     "name": "stdout",
     "output_type": "stream",
     "text": [
      "Please input the number of rows you want in the Christmas Tree: 5\n",
      "     *\n",
      "    ***\n",
      "   *****\n",
      "  *******\n",
      " *********\n"
     ]
    }
   ],
   "source": [
    "# Q.9.\tWrite a code to create the given structure using only for loop.\n",
    "#      *\n",
    "#     ***\n",
    "#    *****\n",
    "#   *******\n",
    "#  *********\n",
    "def xmas_tree():\n",
    "    n = int(input(\"Please input the number of rows you want in the Christmas Tree: \"))\n",
    "    for i in range(n):\n",
    "        print(' '*(n-(i+1)),'*'*(i*2+1))\n",
    "xmas_tree()"
   ]
  },
  {
   "cell_type": "code",
   "execution_count": 9,
   "id": "546a491f",
   "metadata": {},
   "outputs": [
    {
     "name": "stdout",
     "output_type": "stream",
     "text": [
      "please input the number of rows you want in UpSide Down Xmas tree9\n",
      " |||||||||\n",
      "  |||||||\n",
      "   |||||\n",
      "    |||\n",
      "     |\n",
      "      \n",
      "       \n",
      "        \n",
      "         \n"
     ]
    }
   ],
   "source": [
    "# Q.10.\tWrite a code to create the given structure using while loop.\n",
    "#  |||||||||\n",
    "#   |||||||\n",
    "#    |||||\n",
    "#     |||\n",
    "#      |\n",
    "def upside_down_xmas():\n",
    "    n= int(input('please input the number of rows you want in UpSide Down Xmas tree'))\n",
    "    for i in range(n):\n",
    "        print(' '*(i), '|'*(n-(i*2)))\n",
    "                    \n",
    "upside_down_xmas()"
   ]
  },
  {
   "cell_type": "code",
   "execution_count": null,
   "id": "34625281",
   "metadata": {},
   "outputs": [],
   "source": []
  },
  {
   "cell_type": "code",
   "execution_count": null,
   "id": "6af71f85",
   "metadata": {},
   "outputs": [],
   "source": []
  }
 ],
 "metadata": {
  "kernelspec": {
   "display_name": "Python 3 (ipykernel)",
   "language": "python",
   "name": "python3"
  },
  "language_info": {
   "codemirror_mode": {
    "name": "ipython",
    "version": 3
   },
   "file_extension": ".py",
   "mimetype": "text/x-python",
   "name": "python",
   "nbconvert_exporter": "python",
   "pygments_lexer": "ipython3",
   "version": "3.9.13"
  }
 },
 "nbformat": 4,
 "nbformat_minor": 5
}
