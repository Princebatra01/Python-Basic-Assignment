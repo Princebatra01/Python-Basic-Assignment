{
 "cells": [
  {
   "cell_type": "code",
   "execution_count": 1,
   "id": "a7444f91",
   "metadata": {},
   "outputs": [
    {
     "ename": "SyntaxError",
     "evalue": "invalid syntax (1461739874.py, line 1)",
     "output_type": "error",
     "traceback": [
      "\u001b[1;36m  File \u001b[1;32m\"C:\\Users\\Admin\\AppData\\Local\\Temp\\ipykernel_11700\\1461739874.py\"\u001b[1;36m, line \u001b[1;32m1\u001b[0m\n\u001b[1;33m    1. In the below elements which of them are values or an expression? eg:- values can be integer or string and expressions will be mathematical operators.\u001b[0m\n\u001b[1;37m       ^\u001b[0m\n\u001b[1;31mSyntaxError\u001b[0m\u001b[1;31m:\u001b[0m invalid syntax\n"
     ]
    }
   ],
   "source": [
    "1. In the below elements which of them are values or an expression? eg:- values can be integer or string and expressions will be mathematical operators.\n",
    "* (Expression)\n",
    "'hello' (Value: String)\n",
    "-87.8 (Value: Float)\n",
    "- (Expression)\n",
    "/ (Expression)\n",
    "+\t(Expression)\n",
    "6 (Value: Integer)\n",
    "\n",
    "2. What is the difference between string and variable?\n",
    "String is a constant i.e., it can only hold information of data type string\n",
    "Whereas variable can hold any type of information depending upon the conditions the value can be changed.\n",
    "String is a type of information that can be stored in a variable.\n",
    "\n",
    "\n",
    "\n",
    "3. Describe three different data types.\n",
    "String: represents text/alphabets\n",
    "Integer: Represents Whole numbers like 1,2,3 etc\n",
    "Float: Represents real numbers like 1.2, 3.4, 9.1 etc \n",
    "\n",
    "\n",
    "4. What is an expression made up of? What do all expressions do?\n",
    "Expression is made up of values, variables, operators or operands.\n",
    "All expressions evaluate and produce result, which can be further used as an information.\n",
    "\n",
    "\n",
    "5. This assignment statements, like spam = 10. What is the difference between an expression and a statement?\n",
    "Expressions are evaluated to produce/generate some results while statements are not evaluated for some results, statements can be used to change the state of the variable like if spam = 10 then spam is an integer variable but if spam = “SPAM” then spam is a string variable\n",
    "\n",
    "6. After running the following code, what does the variable bacon contain?\n",
    "bacon = 22\n",
    "bacon + 1\n",
    "bacon will still contain 22.\n",
    "\n",
    "7. What should the values of the following two terms be?\n",
    "'spam' + 'spamspam' = ‘spamspamspam’\n",
    "'spam' * 3 =  ‘spamspamspam’\n",
    "\n",
    "8. Why is eggs a valid variable name while 100 is invalid?\n",
    "100 is an invalid variable because as per Python variable Rules A variable name cannot start with a number.\n",
    "\n",
    "\n",
    "9. What three functions can be used to get the integer, floating-point number, or string version of a value?\n",
    "Int(), float(), str() can be used respectively\n",
    "\n",
    "10. Why does this expression cause an error? How can you fix it?\n",
    "'I have eaten ' + 99 + ' burritos.'\n",
    "This expression will cause an error because we are trying to concatenate string with an integer value.\n",
    "We can fix it by converting 99 to a string by simply enclosing it in single quotes ‘99’\n",
    "'I have eaten ' + ’99’ + ' burritos.'\n"
   ]
  },
  {
   "cell_type": "code",
   "execution_count": null,
   "id": "7013517b",
   "metadata": {},
   "outputs": [],
   "source": []
  }
 ],
 "metadata": {
  "kernelspec": {
   "display_name": "Python 3 (ipykernel)",
   "language": "python",
   "name": "python3"
  },
  "language_info": {
   "codemirror_mode": {
    "name": "ipython",
    "version": 3
   },
   "file_extension": ".py",
   "mimetype": "text/x-python",
   "name": "python",
   "nbconvert_exporter": "python",
   "pygments_lexer": "ipython3",
   "version": "3.9.13"
  }
 },
 "nbformat": 4,
 "nbformat_minor": 5
}
