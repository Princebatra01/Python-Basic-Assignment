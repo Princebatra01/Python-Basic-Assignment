{
 "cells": [
  {
   "cell_type": "code",
   "execution_count": 29,
   "id": "81aa8373",
   "metadata": {},
   "outputs": [],
   "source": [
    "# 1.In Python, what is the difference between a built-in function and a user-defined function? Provide an example of each.\n",
    "# Ans: Built-in functions are predefined functions that are already been designed by someone else and \n",
    "# we can use it anytime for example: len(), type() etc\n",
    "# User defined functions are the functions defined by the programmer for their use for any repetitive task. So that they write the code one time and use it as many times simply by calling it.\n",
    "# For ex: function to add two numbers.\n",
    "def add_two_num(a,b):\n",
    "    C = a+b\n",
    "    return C\n"
   ]
  },
  {
   "cell_type": "code",
   "execution_count": 8,
   "id": "689fd806",
   "metadata": {},
   "outputs": [],
   "source": [
    "\n",
    "# 2.How can you pass arguments to a function in Python? Explain the difference between positional arguments and keyword arguments.\n",
    "# Ans: Arguments are specified after the function name, inside the parentheses for example :\n",
    "def add_two_num(a,b):\n",
    "    C = a+b\n",
    "    return C\n",
    "# Here ‘a’ and ‘b’ are arguments\n",
    "\n",
    "# Positional arguments must be included in the correct order. Keyword arguments are included with a keyword and equals sign."
   ]
  },
  {
   "cell_type": "code",
   "execution_count": 9,
   "id": "c3578c59",
   "metadata": {},
   "outputs": [],
   "source": [
    "\n",
    "# 3.What is the purpose of the return statement in a function? Can a function have multiple return statements? Explain with an example.\n",
    "# Ans: return statement is used to return the output from a function.\n",
    "# Python functions can have multiple return statements\n",
    "def infiniteReturn(x):\n",
    "    if x > 0:\n",
    "        return 1\n",
    "    elif x < 0:\n",
    "        return -1\n",
    "    else:\n",
    "        return 0\n",
    "\n"
   ]
  },
  {
   "cell_type": "code",
   "execution_count": null,
   "id": "a33eef4c",
   "metadata": {},
   "outputs": [],
   "source": [
    "# 4.What are lambda functions in Python? How are they different from regular functions? Provide an example where a lambda function can be useful.\n",
    "# Ans: A lambda function is an anonymous function (i.e., defined without a name) that can take any number of arguments but, unlike normal functions, evaluates and returns only one expression.\n",
    "# Expressions that do not include complex structures such as if-else, for-loops, etc can be made using lamda functions for ex: lambda x: x % 2 == 0\n",
    "\n"
   ]
  },
  {
   "cell_type": "code",
   "execution_count": null,
   "id": "cad3fb7f",
   "metadata": {},
   "outputs": [],
   "source": [
    "# 5.How does the concept of \"scope\" apply to functions in Python? Explain the difference between local scope and global scope.\n",
    "# Ans: The concept of scope rules how variables and names are looked up in your code.\n",
    "# 1.Global scope: The names that you define in this scope are available to all your code.\n",
    "# 2.Local scope: The names that you define in this scope are only available or visible to the code within the scope.\n"
   ]
  },
  {
   "cell_type": "code",
   "execution_count": 11,
   "id": "663906dc",
   "metadata": {},
   "outputs": [],
   "source": [
    "# 6.How can you use the \"return\" statement in a Python function to return multiple values?\n",
    "# Ans: Using tuple, dictionary, class, list\n",
    "# For example:\n",
    "def func(x):\n",
    "    y0 = x+ 1\n",
    "    y1 = x * 3\n",
    "    y2 = y0 ** 3\n",
    "    return (y0, y1, y2)\n",
    "\n"
   ]
  },
  {
   "cell_type": "code",
   "execution_count": null,
   "id": "918b6af3",
   "metadata": {},
   "outputs": [],
   "source": [
    "# 7.What is the difference between the \"pass by value\" and \"pass by reference\" concepts when it comes to function arguments in Python?\n",
    "# Ans: When you give function parameters via reference, you're just passing references to values that already exist. When you pass arguments by value, on the other hand, the arguments become independent copies of the original values.\n",
    "# Pass by value\n",
    "# Any other operation performed will not have any effect on the original value as the argument passed to the function is copied. It only changes the value of the copy created within the function.\n",
    "# Pass by reference\n",
    "# This method passes a reference to the original arguments, and any operation performed on the parameter affects the actual value. It alters the value in both function and globally.\n"
   ]
  },
  {
   "cell_type": "code",
   "execution_count": null,
   "id": "644398b5",
   "metadata": {},
   "outputs": [],
   "source": [
    "8.Create a function that can intake integer or decimal value and do following operations:\n",
    "a.Logarithmic function (log x)\n",
    "b.Exponential function (exp(x))\n",
    "c.Power function with base 2 (2x)\n",
    "d.Square root"
   ]
  },
  {
   "cell_type": "code",
   "execution_count": 16,
   "id": "afe17d3e",
   "metadata": {},
   "outputs": [
    {
     "name": "stdout",
     "output_type": "stream",
     "text": [
      "Please input any number to find log: 5\n"
     ]
    },
    {
     "data": {
      "text/plain": [
       "1.6094379124341003"
      ]
     },
     "execution_count": 16,
     "metadata": {},
     "output_type": "execute_result"
    }
   ],
   "source": [
    "# Ans-7(a):\n",
    "def logarithm():\n",
    "    import math\n",
    "    try:\n",
    "        x = int(input(\"Please input any number to find log: \"))\n",
    "        return math.log(x)       \n",
    "    except:\n",
    "        print(\"Sorry, you have not entered an integer value\")\n",
    "        \n",
    "logarithm()"
   ]
  },
  {
   "cell_type": "code",
   "execution_count": 21,
   "id": "91d3a586",
   "metadata": {},
   "outputs": [
    {
     "name": "stdout",
     "output_type": "stream",
     "text": [
      "Please input any number to find log: 5\n"
     ]
    },
    {
     "data": {
      "text/plain": [
       "148.4131591025766"
      ]
     },
     "execution_count": 21,
     "metadata": {},
     "output_type": "execute_result"
    }
   ],
   "source": [
    "\n",
    "# Ans-7(b): \n",
    "def exponential():\n",
    "    import math\n",
    "    try:\n",
    "                x = int(input(\"Please input any number to find log: \"))\n",
    "                return math.exp(x)       \n",
    "    except:\n",
    "            print(\"Sorry, you have not entered an integer value\")\n",
    "exponential()"
   ]
  },
  {
   "cell_type": "code",
   "execution_count": 23,
   "id": "ccb80253",
   "metadata": {},
   "outputs": [
    {
     "data": {
      "text/plain": [
       "32"
      ]
     },
     "execution_count": 23,
     "metadata": {},
     "output_type": "execute_result"
    }
   ],
   "source": [
    "# Ans- 7(c)\n",
    "def power_function(x):\n",
    "    return 2 ** x\n",
    "power_function(5)"
   ]
  },
  {
   "cell_type": "code",
   "execution_count": 25,
   "id": "59d4f975",
   "metadata": {},
   "outputs": [
    {
     "data": {
      "text/plain": [
       "4.0"
      ]
     },
     "execution_count": 25,
     "metadata": {},
     "output_type": "execute_result"
    }
   ],
   "source": [
    "# Ans- 7(d)\n",
    "import math\n",
    "def calculate_square_root(number):\n",
    "        return math.sqrt(number)\n",
    "calculate_square_root(16)"
   ]
  },
  {
   "cell_type": "code",
   "execution_count": 27,
   "id": "2fb3bd61",
   "metadata": {},
   "outputs": [
    {
     "data": {
      "text/plain": [
       "('Prince', 'Batra')"
      ]
     },
     "execution_count": 27,
     "metadata": {},
     "output_type": "execute_result"
    }
   ],
   "source": [
    "# 9.Create a function that takes a full name as an argument and returns first name and last name.\n",
    "def extract_first_and_last_name(full_name):\n",
    "    name_parts = full_name.split()\n",
    "    first_name = name_parts[0]\n",
    "    last_name = ' '.join(name_parts[1:])\n",
    "    return first_name, last_name\n",
    "\n",
    "extract_first_and_last_name(\"Prince Batra\")"
   ]
  },
  {
   "cell_type": "code",
   "execution_count": null,
   "id": "b6bb2145",
   "metadata": {},
   "outputs": [],
   "source": []
  }
 ],
 "metadata": {
  "kernelspec": {
   "display_name": "Python 3 (ipykernel)",
   "language": "python",
   "name": "python3"
  },
  "language_info": {
   "codemirror_mode": {
    "name": "ipython",
    "version": 3
   },
   "file_extension": ".py",
   "mimetype": "text/x-python",
   "name": "python",
   "nbconvert_exporter": "python",
   "pygments_lexer": "ipython3",
   "version": "3.9.13"
  }
 },
 "nbformat": 4,
 "nbformat_minor": 5
}
