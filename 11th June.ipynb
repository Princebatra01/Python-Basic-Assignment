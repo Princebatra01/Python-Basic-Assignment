{
 "cells": [
  {
   "cell_type": "code",
   "execution_count": 2,
   "id": "c2780520",
   "metadata": {},
   "outputs": [
    {
     "ename": "IndentationError",
     "evalue": "unindent does not match any outer indentation level (<tokenize>, line 52)",
     "output_type": "error",
     "traceback": [
      "\u001b[1;36m  File \u001b[1;32m\"<tokenize>\"\u001b[1;36m, line \u001b[1;32m52\u001b[0m\n\u001b[1;33m    max_value\u001b[0m\n\u001b[1;37m    ^\u001b[0m\n\u001b[1;31mIndentationError\u001b[0m\u001b[1;31m:\u001b[0m unindent does not match any outer indentation level\n"
     ]
    }
   ],
   "source": [
    "1.What is a lambda function in Python, and how does it differ from a regular function?\n",
    "Ans: \n",
    "In Python, a lambda function, also known as an anonymous function, is a way to define small, one-line functions without using the def keyword. Lambda functions are typically used for simple operations and can be created and used inline without assigning them to a variable.\n",
    "syntax : lambda arguments: expression\n",
    "\n",
    "Lambda functions and regular functions have some key differences:\n",
    "\n",
    "1.Syntax: Lambda functions are defined using a more concise syntax in a single line, while regular functions are defined using the def keyword and can span multiple lines.\n",
    "2.Name: Lambda functions are anonymous, meaning they don't have a specific name assigned to them. They are typically assigned to a variable or used directly in function calls. On the other hand, regular functions are named and can be called by their defined name.\n",
    "3.Function Body: Lambda functions are limited to a single expression. They can't contain multiple statements or complex logic. Regular functions can have multiple statements, including control flow statements (e.g., if, for, while), local variable declarations, and more complex logic.\n",
    "4.Return Statement: In lambda functions, the result is automatically returned based on the evaluated expression. In regular functions, the return statement is used to explicitly define what value should be returned from the function.\n",
    "5.Scope: Lambda functions have access to variables in the enclosing scope, just like regular functions. This includes global variables, variables defined in the outer function if used inside one, and any variables passed as arguments.\n"
   ]
  },
  {
   "cell_type": "code",
   "execution_count": null,
   "id": "72ca9ebd",
   "metadata": {},
   "outputs": [],
   "source": [
    "# 2.Can a lambda function in Python have multiple arguments? If yes, how can you define and use them?\n",
    "# Ans: Yes, a Lambda function in Python can have multiple arguments.\n",
    "# Example: \n",
    "multiply = lambda x, y: x * y"
   ]
  },
  {
   "cell_type": "code",
   "execution_count": 4,
   "id": "81a232f3",
   "metadata": {},
   "outputs": [
    {
     "name": "stdout",
     "output_type": "stream",
     "text": [
      "[2, 4, 6, 8, 10]\n"
     ]
    }
   ],
   "source": [
    "# 3.How are lambda functions typically used in Python? Provide an example use case.\n",
    "# Ans: Lambda functions are typically used for functional programming, sorting, for small fucntions, filtering.\n",
    "# For ex: \n",
    "numbers = [1, 2, 3, 4, 5, 6, 7, 8, 9, 10]\n",
    "even_numbers = filter(lambda x: x % 2 == 0, numbers)\n",
    "print(list(even_numbers)) \n",
    "# Output: [2, 4, 6, 8, 10]"
   ]
  },
  {
   "cell_type": "code",
   "execution_count": null,
   "id": "3c65a4ee",
   "metadata": {},
   "outputs": [],
   "source": [
    "4.What are the advantages and limitations of lambda functions compared to regular functions in Python?\n",
    "Ans: Advantages of Lambda Functions:\n",
    "•Conciseness: Lambda functions allow you to define small, anonymous functions in a compact and concise manner, typically within a single line of code\n",
    "•Readability\n",
    "•Inline Usage: Lambda functions can be used directly at the point where they are needed, without the need to define them elsewhere in the code.\n",
    "Limitations of Lambda Functions:\n",
    "•Single Expression\n",
    "•Limited Functionality\n",
    "•Limited Naming"
   ]
  },
  {
   "cell_type": "code",
   "execution_count": 6,
   "id": "7ade20ae",
   "metadata": {},
   "outputs": [
    {
     "name": "stdout",
     "output_type": "stream",
     "text": [
      "15\n"
     ]
    }
   ],
   "source": [
    "# 5.Are lambda functions in Python able to access variables defined outside of their own scope? Explain with an example.\n",
    "# Ans: Yes, lambda functions in Python can access variables defined outside of their own scope. Lambda functions have access to variables from the surrounding scope, including global variables and variables defined in the enclosing function. This behavior is known as lexical scoping or closure.\n",
    "def outer_function():\n",
    "    outer_variable = 10\n",
    "\n",
    "    # Lambda function accessing outer_variable\n",
    "    lambda_function = lambda x: x + outer_variable\n",
    "\n",
    "    return lambda_function\n",
    "\n",
    "# Call the outer function and assign the lambda function to a variable\n",
    "my_lambda = outer_function()\n",
    "\n",
    "# Call the lambda function with an argument\n",
    "result = my_lambda(5)\n",
    "print(result)  # Output: 15\n"
   ]
  },
  {
   "cell_type": "code",
   "execution_count": 7,
   "id": "89812c49",
   "metadata": {},
   "outputs": [
    {
     "data": {
      "text/plain": [
       "25"
      ]
     },
     "execution_count": 7,
     "metadata": {},
     "output_type": "execute_result"
    }
   ],
   "source": [
    "\n",
    "# 6.Write a lambda function to calculate the square of a given number.\n",
    "# Ans:\n",
    "square = lambda x: x*x\n",
    "square(5) #output: 25"
   ]
  },
  {
   "cell_type": "code",
   "execution_count": 13,
   "id": "c290563a",
   "metadata": {},
   "outputs": [
    {
     "data": {
      "text/plain": [
       "12"
      ]
     },
     "execution_count": 13,
     "metadata": {},
     "output_type": "execute_result"
    }
   ],
   "source": [
    "# 7.Create a lambda function to find the maximum value in a list of integers.\n",
    "# Ans: \n",
    "numbers = [10, 5, 8, 3, 12, 7]\n",
    "max_value = max(numbers, key=lambda x: x)\n",
    "max_value"
   ]
  },
  {
   "cell_type": "code",
   "execution_count": 14,
   "id": "7f8994ba",
   "metadata": {},
   "outputs": [
    {
     "name": "stdout",
     "output_type": "stream",
     "text": [
      "[2, 4, 6, 8, 10]\n"
     ]
    }
   ],
   "source": [
    "# 8.Implement a lambda function to filter out all the even numbers from a list of integers.\n",
    "# Ans: \n",
    "numbers = [1, 2, 3, 4, 5, 6, 7, 8, 9, 10]\n",
    "even_numbers = list(filter(lambda x: x % 2 == 0, numbers))\n",
    "print(even_numbers)  # Output: [2, 4, 6, 8, 10]"
   ]
  },
  {
   "cell_type": "code",
   "execution_count": 15,
   "id": "4d06707d",
   "metadata": {},
   "outputs": [
    {
     "name": "stdout",
     "output_type": "stream",
     "text": [
      "['date', 'apple', 'banana', 'cherry', 'elderberry']\n"
     ]
    }
   ],
   "source": [
    "# 9.\tWrite a lambda function to sort a list of strings in ascending order based on the length of each string.\n",
    "# Ans:\n",
    "strings = [\"apple\", \"banana\", \"cherry\", \"date\", \"elderberry\"]\n",
    "sorted_strings = sorted(strings, key=lambda x: len(x))\n",
    "print(sorted_strings)  # Output: ['date', 'apple', 'cherry', 'banana', 'elderberry']"
   ]
  },
  {
   "cell_type": "code",
   "execution_count": 16,
   "id": "e8111f8c",
   "metadata": {},
   "outputs": [
    {
     "data": {
      "text/plain": [
       "[1, 6]"
      ]
     },
     "execution_count": 16,
     "metadata": {},
     "output_type": "execute_result"
    }
   ],
   "source": [
    "\n",
    "\n",
    "# 10.Create a lambda function that takes two lists as input and returns a new list containing the common elements between the two lists.\n",
    "# Ans:\n",
    "common_elements =  lambda lst1, lst2: [x for x in lst1 if x in lst2]\n",
    "lst1 = [1,2,3,4,6]\n",
    "lst2 = [1,5,6,8,9]\n",
    "common_elements(lst1,lst2)"
   ]
  },
  {
   "cell_type": "code",
   "execution_count": 20,
   "id": "2aa095ba",
   "metadata": {},
   "outputs": [
    {
     "data": {
      "text/plain": [
       "6"
      ]
     },
     "execution_count": 20,
     "metadata": {},
     "output_type": "execute_result"
    }
   ],
   "source": [
    "\n",
    "# 11.Write a recursive function to calculate the factorial of a given positive integer.\n",
    "# Ans:\n",
    "def factorial(x):\n",
    "    y = 1\n",
    "    for i in range(1,x+1):\n",
    "        y = y*i\n",
    "    return y\n",
    "factorial(3)"
   ]
  },
  {
   "cell_type": "code",
   "execution_count": 26,
   "id": "4e460c76",
   "metadata": {},
   "outputs": [
    {
     "data": {
      "text/plain": [
       "3"
      ]
     },
     "execution_count": 26,
     "metadata": {},
     "output_type": "execute_result"
    }
   ],
   "source": [
    "# 12.Implement a recursive function to compute the nth Fibonacci number.\n",
    "# Ans: \n",
    "def fibonacci(n):\n",
    "    if n <= 0:\n",
    "        raise ValueError(\"n must be a positive integer.\")\n",
    "    elif n == 1:\n",
    "        return 0\n",
    "    elif n == 2:\n",
    "        return 1\n",
    "    else:\n",
    "        fib_n_minus_1 = 1\n",
    "        fib_n_minus_2 = 0\n",
    "        fib_n = 0\n",
    "    for i in range(3, n + 1):\n",
    "       fib_n = fib_n_minus_1 + fib_n_minus_2\n",
    "       fib_n_minus_2 = fib_n_minus_1\n",
    "       fib_n_minus_1 = fib_n\n",
    "    return fib_n\n",
    "fibonacci(5)"
   ]
  },
  {
   "cell_type": "code",
   "execution_count": 27,
   "id": "9c23f556",
   "metadata": {},
   "outputs": [
    {
     "data": {
      "text/plain": [
       "6"
      ]
     },
     "execution_count": 27,
     "metadata": {},
     "output_type": "execute_result"
    }
   ],
   "source": [
    "# 13.Create a recursive function to find the sum of all the elements in a given list.\n",
    "# Ans:\n",
    "def sum_of_list(n):\n",
    "    if type(n) != list:\n",
    "        raise ValueError(\"n must be a list.\")\n",
    "    else:\n",
    "        sum=0\n",
    "        for i in range(0,len(n)):\n",
    "            if type(n[i])!=int:\n",
    "                raise ValueError(\"list should not contain anything other than integer values.\")\n",
    "            else:\n",
    "                sum=sum+n[i]\n",
    "                \n",
    "    return sum\n",
    "\n",
    "sum_of_list([1,2,3])\n"
   ]
  },
  {
   "cell_type": "code",
   "execution_count": 31,
   "id": "b94bbc78",
   "metadata": {},
   "outputs": [
    {
     "data": {
      "text/plain": [
       "True"
      ]
     },
     "execution_count": 31,
     "metadata": {},
     "output_type": "execute_result"
    }
   ],
   "source": [
    "# 14.\tWrite a recursive function to determine whether a given string is a palindrome.\n",
    "# Ans:\n",
    "def is_palindrome(string):\n",
    "    clean_chars = []\n",
    "    for ch in string:\n",
    "        if ch.isalnum():\n",
    "            clean_chars.append(ch.lower())\n",
    "    clean_string = ''.join(clean_chars)\n",
    "    reversed_string = clean_string[::-1]\n",
    "    return clean_string == reversed_string\n",
    "is_palindrome(\"madam\")"
   ]
  },
  {
   "cell_type": "code",
   "execution_count": 33,
   "id": "3ceefb25",
   "metadata": {},
   "outputs": [
    {
     "data": {
      "text/plain": [
       "12"
      ]
     },
     "execution_count": 33,
     "metadata": {},
     "output_type": "execute_result"
    }
   ],
   "source": [
    "# 15.Implement a recursive function to find the greatest common divisor (GCD) of two positive integers.\n",
    "# Ans:\n",
    "def gcd(a, b):\n",
    "    if b == 0:\n",
    "        return a\n",
    "    else:\n",
    "        return gcd(b, a % b)\n",
    "gcd(36,48)"
   ]
  },
  {
   "cell_type": "code",
   "execution_count": null,
   "id": "140b389b",
   "metadata": {},
   "outputs": [],
   "source": []
  }
 ],
 "metadata": {
  "kernelspec": {
   "display_name": "Python 3 (ipykernel)",
   "language": "python",
   "name": "python3"
  },
  "language_info": {
   "codemirror_mode": {
    "name": "ipython",
    "version": 3
   },
   "file_extension": ".py",
   "mimetype": "text/x-python",
   "name": "python",
   "nbconvert_exporter": "python",
   "pygments_lexer": "ipython3",
   "version": "3.9.13"
  }
 },
 "nbformat": 4,
 "nbformat_minor": 5
}
