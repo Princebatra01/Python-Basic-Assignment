{
 "cells": [
  {
   "cell_type": "code",
   "execution_count": 2,
   "id": "89f19373",
   "metadata": {},
   "outputs": [
    {
     "ename": "SyntaxError",
     "evalue": "invalid syntax (559034097.py, line 2)",
     "output_type": "error",
     "traceback": [
      "\u001b[1;36m  File \u001b[1;32m\"C:\\Users\\Admin\\AppData\\Local\\Temp\\ipykernel_11416\\559034097.py\"\u001b[1;36m, line \u001b[1;32m2\u001b[0m\n\u001b[1;33m    Ans: The try-except block in Python is used for exception handling. It allows you to handle and recover from exceptional conditions or errors that may occur during the execution of your code.\u001b[0m\n\u001b[1;37m             ^\u001b[0m\n\u001b[1;31mSyntaxError\u001b[0m\u001b[1;31m:\u001b[0m invalid syntax\n"
     ]
    }
   ],
   "source": [
    "1.What is the role of try and exception block?\n",
    "Ans: The try-except block in Python is used for exception handling. It allows you to handle and recover from exceptional conditions or errors that may occur during the execution of your code.\n",
    "\n"
   ]
  },
  {
   "cell_type": "code",
   "execution_count": 3,
   "id": "4893f715",
   "metadata": {},
   "outputs": [
    {
     "ename": "SyntaxError",
     "evalue": "invalid syntax (1111196690.py, line 2)",
     "output_type": "error",
     "traceback": [
      "\u001b[1;36m  File \u001b[1;32m\"C:\\Users\\Admin\\AppData\\Local\\Temp\\ipykernel_11416\\1111196690.py\"\u001b[1;36m, line \u001b[1;32m2\u001b[0m\n\u001b[1;33m    Ans: try:\u001b[0m\n\u001b[1;37m         ^\u001b[0m\n\u001b[1;31mSyntaxError\u001b[0m\u001b[1;31m:\u001b[0m invalid syntax\n"
     ]
    }
   ],
   "source": [
    "2.What is the syntax for a basic try-except block?\n",
    "Ans: try:\n",
    "    # Code block where an exception might occur\n",
    "    except ExceptionType:\n",
    "    # Code block to handle the exception\n"
   ]
  },
  {
   "cell_type": "code",
   "execution_count": null,
   "id": "bc57bed8",
   "metadata": {},
   "outputs": [],
   "source": [
    "3.What happens if an exception occurs inside a try block and there is no matching except block?\n",
    "Ans: If no suitable except block is found, the program will terminate and an error message will be displayed.\n"
   ]
  },
  {
   "cell_type": "code",
   "execution_count": null,
   "id": "c2b5ee26",
   "metadata": {},
   "outputs": [],
   "source": [
    "4.What is the difference between using a bare except block and specifying a specific exception type?\n",
    "Ans: A bare except block, without specifying any exception type, will catch and handle any exception that occurs inside the try block. It acts as a catch-all for any type of exception. While it can be convenient to catch all exceptions, it can also make it difficult to diagnose and handle specific errors because the code inside the except block will execute regardless of the exception type. It can lead to unintentionally catching and handling exceptions that should be handled differently.\n",
    "On the other hand, Specifying a specific exception type in an except block allows you to catch and handle only that particular type of exception. It provides more control over error handling because you can write specific code to handle different types of exceptions differently.\n"
   ]
  },
  {
   "cell_type": "code",
   "execution_count": null,
   "id": "7b6654ee",
   "metadata": {},
   "outputs": [],
   "source": [
    "5.Can you have nested try-except blocks in Python? If yes, then give an example.\n",
    "Ans: Yes, it is possible to have nested try-except blocks in Python\n",
    "try:\n",
    "    # Outer try block\n",
    "    # Code that may raise exceptions\n",
    "\n",
    "    try:\n",
    "        # Inner try block\n",
    "        # Code that may raise exceptions specific to this block\n",
    "\n",
    "    except ValueError:\n",
    "        # Exception handling specific to ValueError in the inner try block\n",
    "\n",
    "    except:\n",
    "        # Exception handling for other exceptions in the inner try block\n",
    "\n",
    "except:\n",
    "    # Exception handling for any other exceptions in the outer try block\n"
   ]
  },
  {
   "cell_type": "code",
   "execution_count": null,
   "id": "fa028c70",
   "metadata": {},
   "outputs": [],
   "source": [
    "6.Can we use multiple exception blocks, if yes then give an example.\n",
    "Ans: try:\n",
    "    # Outer try block\n",
    "    # Code that may raise exceptions\n",
    "\n",
    "    try:\n",
    "        # Inner try block\n",
    "        # Code that may raise exceptions specific to this block\n",
    "\n",
    "    except ValueError:\n",
    "        # Exception handling specific to ValueError in the inner try block\n",
    "\n",
    "    except:\n",
    "        # Exception handling for other exceptions in the inner try block\n",
    "\n",
    "except:\n",
    "    # Exception handling for any other exceptions in the outer try block"
   ]
  },
  {
   "cell_type": "code",
   "execution_count": null,
   "id": "c7311d3d",
   "metadata": {},
   "outputs": [],
   "source": [
    "\n",
    "7.Write the reason due to which following errors are raised:\n",
    "\n",
    "a.EOFError: It typically occurs when the user or the file input ends abruptly before providing the expected input.\n",
    "    \n",
    "b.FloatingPointError: This error is raised when a floating-point operation fails to produce a valid result. It can occur due to various reasons, such as division by zero, taking the square root of a negative number etc\n",
    "\n",
    "c.IndexError: This error is raised when you try to access a sequence, such as a list, tuple, or string, using an index that is outside the valid range of indices\n",
    "\n",
    "d.MemoryError: It occurs when your program tries to allocate more memory than the system can provide or when the available memory is heavily fragmented.\n",
    "\n",
    "e.OverflowError: It occurs when you try to perform an arithmetic calculation that results in a value that is too large to be stored within the given numeric type.\n",
    "\n",
    "f.TabError: This error is raised when there is an indentation-related issue in code\n",
    "\n",
    "g.ValueError: This error is raised when a function receives an argument of the correct type but an invalid value.\n"
   ]
  },
  {
   "cell_type": "code",
   "execution_count": null,
   "id": "8e7a5382",
   "metadata": {},
   "outputs": [],
   "source": [
    "# 8.Write code for the following given scenario and add try-exception block to it.\n",
    "# a.Program to divide two numbers\n",
    "# Ans: \n",
    "try:\n",
    "    dividend = int(input(\"Enter the dividend: \"))\n",
    "    divisor = int(input(\"Enter the divisor: \"))\n",
    "    result = dividend / divisor\n",
    "    print(\"Result:\", result)\n",
    "except ZeroDivisionError:\n",
    "    print(\"Error: Division by zero is not allowed.\")\n",
    "except ValueError:\n",
    "    print(\"Error: Invalid input. Please enter integers only.\")\n"
   ]
  },
  {
   "cell_type": "code",
   "execution_count": null,
   "id": "02719883",
   "metadata": {},
   "outputs": [],
   "source": [
    "# b.Program to convert a string to an integer\n",
    "# Ans: \n",
    "num_str = input(\"Enter a number: \")\n",
    "    num = int(num_str)\n",
    "    print(\"Number:\", num)\n",
    "except ValueError:\n",
    "    print(\"Error: Invalid input. Please enter a valid integer.\")"
   ]
  },
  {
   "cell_type": "code",
   "execution_count": null,
   "id": "4a588908",
   "metadata": {},
   "outputs": [],
   "source": [
    "# c.Program to access an element in a list\n",
    "# Ans: \n",
    "try:\n",
    "    my_list = [1, 2, 3, 4, 5]\n",
    "    index = int(input(\"Enter the index: \"))\n",
    "    element = my_list[index]\n",
    "    print(\"Element at index\", index, \":\", element)\n",
    "except IndexError:\n",
    "    print(\"Error: Index is out of range.\")\n",
    "except ValueError:\n",
    "    print(\"Error: Invalid input. Please enter a valid integer.\")"
   ]
  },
  {
   "cell_type": "code",
   "execution_count": 4,
   "id": "de922452",
   "metadata": {},
   "outputs": [
    {
     "name": "stdout",
     "output_type": "stream",
     "text": [
      "Enter the index: \n",
      "Error: Invalid input. Please enter a valid integer.\n"
     ]
    }
   ],
   "source": [
    "# d.Program to handle a specific exception\n",
    "# Ans: the below program will handle only value errors and index errors\n",
    "try:\n",
    "    my_list = [1, 2, 3, 4, 5]\n",
    "    index = int(input(\"Enter the index: \"))\n",
    "    element = my_list[index]\n",
    "    print(\"Element at index\", index, \":\", element)\n",
    "except IndexError:\n",
    "    print(\"Error: Index is out of range.\")\n",
    "except ValueError:\n",
    "    print(\"Error: Invalid input. Please enter a valid integer.\")"
   ]
  },
  {
   "cell_type": "code",
   "execution_count": null,
   "id": "8c1815e3",
   "metadata": {},
   "outputs": [],
   "source": [
    "# e.Program to handle any exception\n",
    "# Ans:\n",
    "try:\n",
    "    # Code that may raise an exception\n",
    "except Exception as e:\n",
    "    print(\"An error occurred:\", str(e))\n"
   ]
  }
 ],
 "metadata": {
  "kernelspec": {
   "display_name": "Python 3 (ipykernel)",
   "language": "python",
   "name": "python3"
  },
  "language_info": {
   "codemirror_mode": {
    "name": "ipython",
    "version": 3
   },
   "file_extension": ".py",
   "mimetype": "text/x-python",
   "name": "python",
   "nbconvert_exporter": "python",
   "pygments_lexer": "ipython3",
   "version": "3.9.13"
  }
 },
 "nbformat": 4,
 "nbformat_minor": 5
}
