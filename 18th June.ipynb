{
 "cells": [
  {
   "cell_type": "code",
   "execution_count": null,
   "id": "9fd4b480",
   "metadata": {},
   "outputs": [],
   "source": [
    "# 1. What is the role of the 'else' block in a try-except statement? Provide an example\n",
    "# scenario where it would be useful.\n",
    "# Ans: The else block in a try-except statementis used to specify a block of code that \n",
    "#     should be executed if no exceptions are raised in the try block. \n",
    "#     It is executed when the try block completes successfully without any exceptions being raised.\n",
    "    \n",
    "def divide(a, b):\n",
    "    try:\n",
    "        result = a / b\n",
    "    except ZeroDivisionError:\n",
    "        print(\"Error: Division by zero!\")\n",
    "    else:\n",
    "        print(\"Division result:\", result)\n",
    "divide(10,0)\n",
    "divide(20,2)"
   ]
  },
  {
   "cell_type": "code",
   "execution_count": null,
   "id": "2609e51c",
   "metadata": {},
   "outputs": [],
   "source": [
    "# 2. Can a try-except block be nested inside another try-except block? Explain with an\n",
    "# example.\n",
    "# Ans: Yes, a try-except block can be nested inside another try-except block.\n",
    "# Example below:\n",
    "    \n",
    "try:\n",
    "    try:\n",
    "        x = int(input(\"Enter a number: \"))\n",
    "        result = 10 / x\n",
    "        print(\"Result:\", result)\n",
    "    except ValueError:\n",
    "        print(\"Error: Invalid input. Please enter a valid integer.\")\n",
    "    except ZeroDivisionError:\n",
    "        print(\"Error: Cannot divide by zero.\")\n",
    "except Exception as e:\n",
    "    print(\"Outer exception caught:\", str(e))\n",
    "\n",
    "    "
   ]
  },
  {
   "cell_type": "code",
   "execution_count": 24,
   "id": "cc854318",
   "metadata": {},
   "outputs": [
    {
     "name": "stdout",
     "output_type": "stream",
     "text": [
      "An error occurred: Division by zero is not allowed.\n"
     ]
    },
    {
     "ename": "TypeError",
     "evalue": "catching classes that do not inherit from BaseException is not allowed",
     "output_type": "error",
     "traceback": [
      "\u001b[1;31m---------------------------------------------------------------------------\u001b[0m",
      "\u001b[1;31mTypeError\u001b[0m                                 Traceback (most recent call last)",
      "\u001b[1;32m~\\AppData\\Local\\Temp\\ipykernel_10428\\807138496.py\u001b[0m in \u001b[0;36m<module>\u001b[1;34m\u001b[0m\n\u001b[0;32m     37\u001b[0m \u001b[1;32mtry\u001b[0m\u001b[1;33m:\u001b[0m\u001b[1;33m\u001b[0m\u001b[1;33m\u001b[0m\u001b[0m\n\u001b[1;32m---> 38\u001b[1;33m     \u001b[0mresult\u001b[0m \u001b[1;33m=\u001b[0m \u001b[0mdivide\u001b[0m\u001b[1;33m(\u001b[0m\u001b[1;36m10\u001b[0m\u001b[1;33m,\u001b[0m \u001b[1;36m0\u001b[0m\u001b[1;33m)\u001b[0m\u001b[1;33m\u001b[0m\u001b[1;33m\u001b[0m\u001b[0m\n\u001b[0m\u001b[0;32m     39\u001b[0m     \u001b[0mprint\u001b[0m\u001b[1;33m(\u001b[0m\u001b[1;34m\"Result:\"\u001b[0m\u001b[1;33m,\u001b[0m \u001b[0mresult\u001b[0m\u001b[1;33m)\u001b[0m\u001b[1;33m\u001b[0m\u001b[1;33m\u001b[0m\u001b[0m\n",
      "\u001b[1;32m~\\AppData\\Local\\Temp\\ipykernel_10428\\807138496.py\u001b[0m in \u001b[0;36mdivide\u001b[1;34m(a, b)\u001b[0m\n\u001b[0;32m     33\u001b[0m     \u001b[1;32mif\u001b[0m \u001b[0mb\u001b[0m \u001b[1;33m==\u001b[0m \u001b[1;36m0\u001b[0m\u001b[1;33m:\u001b[0m\u001b[1;33m\u001b[0m\u001b[1;33m\u001b[0m\u001b[0m\n\u001b[1;32m---> 34\u001b[1;33m         \u001b[1;32mraise\u001b[0m \u001b[0mCustomException\u001b[0m\u001b[1;33m(\u001b[0m\u001b[1;34m\"Division by zero is not allowed.\"\u001b[0m\u001b[1;33m)\u001b[0m\u001b[1;33m\u001b[0m\u001b[1;33m\u001b[0m\u001b[0m\n\u001b[0m\u001b[0;32m     35\u001b[0m     \u001b[1;32mreturn\u001b[0m \u001b[0ma\u001b[0m \u001b[1;33m/\u001b[0m \u001b[0mb\u001b[0m\u001b[1;33m\u001b[0m\u001b[1;33m\u001b[0m\u001b[0m\n",
      "\u001b[1;31mTypeError\u001b[0m: exceptions must derive from BaseException",
      "\nDuring handling of the above exception, another exception occurred:\n",
      "\u001b[1;31mTypeError\u001b[0m                                 Traceback (most recent call last)",
      "\u001b[1;32m~\\AppData\\Local\\Temp\\ipykernel_10428\\807138496.py\u001b[0m in \u001b[0;36m<module>\u001b[1;34m\u001b[0m\n\u001b[0;32m     38\u001b[0m     \u001b[0mresult\u001b[0m \u001b[1;33m=\u001b[0m \u001b[0mdivide\u001b[0m\u001b[1;33m(\u001b[0m\u001b[1;36m10\u001b[0m\u001b[1;33m,\u001b[0m \u001b[1;36m0\u001b[0m\u001b[1;33m)\u001b[0m\u001b[1;33m\u001b[0m\u001b[1;33m\u001b[0m\u001b[0m\n\u001b[0;32m     39\u001b[0m     \u001b[0mprint\u001b[0m\u001b[1;33m(\u001b[0m\u001b[1;34m\"Result:\"\u001b[0m\u001b[1;33m,\u001b[0m \u001b[0mresult\u001b[0m\u001b[1;33m)\u001b[0m\u001b[1;33m\u001b[0m\u001b[1;33m\u001b[0m\u001b[0m\n\u001b[1;32m---> 40\u001b[1;33m \u001b[1;32mexcept\u001b[0m \u001b[0mCustomException\u001b[0m \u001b[1;32mas\u001b[0m \u001b[0me\u001b[0m\u001b[1;33m:\u001b[0m\u001b[1;33m\u001b[0m\u001b[1;33m\u001b[0m\u001b[0m\n\u001b[0m\u001b[0;32m     41\u001b[0m     \u001b[0mprint\u001b[0m\u001b[1;33m(\u001b[0m\u001b[1;34m\"An error occurred:\"\u001b[0m\u001b[1;33m,\u001b[0m \u001b[0me\u001b[0m\u001b[1;33m.\u001b[0m\u001b[0mmessage\u001b[0m\u001b[1;33m)\u001b[0m\u001b[1;33m\u001b[0m\u001b[1;33m\u001b[0m\u001b[0m\n",
      "\u001b[1;31mTypeError\u001b[0m: catching classes that do not inherit from BaseException is not allowed"
     ]
    }
   ],
   "source": [
    "# 3. How can you create a custom exception class in Python? Provide an example that\n",
    "# demonstrates its usage.\n",
    "# Ans: yes you can create a custome exception class in python that inherits from the parent class exception or can create you own class\n",
    "#     which doesnt inherit from the inbuilt exception class, examples below:\n",
    "        \n",
    "\n",
    "# inherits from the parent class exception\n",
    "class CustomException(Exception):\n",
    "    def __init__(self, message):\n",
    "        self.message = message\n",
    "        super().__init__(self.message)\n",
    "\n",
    "# Example usage\n",
    "def divide(a, b):\n",
    "    if b == 0:\n",
    "        raise CustomException(\"Division by zero is not allowed.\")\n",
    "        return a/b\n",
    "\n",
    "try:\n",
    "    result = divide(10, 0)\n",
    "    print(\"Result:\", result)\n",
    "except CustomException as e:\n",
    "    print(\"An error occurred:\", e.message)\n",
    "    \n",
    "# doesnt inherit from the parent class exception\n",
    "\n",
    "class CustomException:\n",
    "    def __init__(self, message):\n",
    "        self.message = message\n",
    "\n",
    "# Example usage\n",
    "def divide(a, b):\n",
    "    if b == 0:\n",
    "        raise CustomException(\"Division by zero is not allowed.\")\n",
    "    return a / b\n",
    "\n",
    "try:\n",
    "    result = divide(10, 0)\n",
    "    print(\"Result:\", result)\n",
    "except CustomException as e:\n",
    "    print(\"An error occurred:\", e.message)"
   ]
  },
  {
   "cell_type": "code",
   "execution_count": 21,
   "id": "4a5460ec",
   "metadata": {},
   "outputs": [
    {
     "name": "stdout",
     "output_type": "stream",
     "text": [
      "An error occurred: Division by zero is not allowed.\n"
     ]
    }
   ],
   "source": [
    "#4. What are some common exceptions that are built-in to Python?\n",
    "# Ans:\n",
    "# TypeError: Raised when an operation or function is applied to an object of an inappropriate type.\n",
    "# ValueError: Raised when a function receives an argument of the correct type but an inappropriate value.\n",
    "# IndexError: Raised when a sequence subscript is out of range.\n",
    "# KeyError: Raised when a dictionary key is not found."
   ]
  },
  {
   "cell_type": "code",
   "execution_count": null,
   "id": "04ec6ab5",
   "metadata": {},
   "outputs": [],
   "source": [
    "# 5.What is logging in Python, and why is it important in software development?\n",
    "# Ans:Logging allows you to record events and messages that occur during the execution of your program.\n",
    "#     These log messages can include information about errors, warnings etc\n",
    "\n",
    "# Logging is crucial in software development for below reasons:\n",
    "\n",
    "# Debugging and troubleshooting\n",
    "# Monitoring and maintenance\n",
    "# Audit trails and compliance\n",
    "# Performance analysis\n",
    "# Informational purposes"
   ]
  },
  {
   "cell_type": "code",
   "execution_count": null,
   "id": "f332be66",
   "metadata": {},
   "outputs": [],
   "source": [
    "6. Explain the purpose of log levels in Python logging and provide examples of when\n",
    "each log level would be appropriate.\n",
    "Ans. The purpose of log levels is to control the filtering of the log output based on our needs.\n",
    "Below are the log levels in increasing state of severity.\n",
    "\n",
    "DEBUG: This log level is used for detailed diagnostic information during development or troubleshooting. \n",
    "It is typically used for messages that are only relevant to developers and are not needed in production environments.\n",
    "For example, you might use the DEBUG level to log variable values, function call traces, or detailed program flow.\n",
    "\n",
    "import logging\n",
    "logging.basicConfig(level=logging.DEBUG)\n",
    "logging.debug(\"This is a debug message.\")\n",
    "\n",
    "INFO: The INFO level is used to convey informational messages that confirm the correct functioning of the application.\n",
    "It provides a high-level overview of the program's execution flow and important events.\n",
    "INFO logs can be useful for tracking significant milestones or major operations.\n",
    "\n",
    "import logging\n",
    "logging.basicConfig(level=logging.INFO)\n",
    "logging.info(\"The application has started.\")\n",
    "\n",
    "WARNING: Warnings are used to indicate potential issues or situations that could lead to errors but do not necessarily disrupt\n",
    "the normal execution of the program. It is often used to alert about non-fatal errors or unusual conditions that might need\n",
    "attention.\n",
    "\n",
    "import logging\n",
    "logging.basicConfig(level=logging.WARNING)\n",
    "logging.warning(\"Disk space is running low.\")\n",
    "\n",
    "ERROR: The ERROR level is used to log errors or exceptional conditions that prevent the normal execution of a program.\n",
    "When an error occurs, it indicates a problem that should be investigated and resolved. \n",
    "Error messages should be logged whenever the program encounters a recoverable or non-recoverable error.\n",
    "\n",
    "import logging\n",
    "logging.basicConfig(level=logging.ERROR)\n",
    "logging.error(\"Failed to connect to the database.\")\n",
    "\n",
    "CRITICAL: This is the highest log level and is used to indicate critical errors or failures that require immediate attention.\n",
    "Critical messages typically denote severe issues that may cause the program to terminate or result in a system failure.\n",
    "\n",
    "import logging\n",
    "logging.basicConfig(level=logging.CRITICAL)\n",
    "logging.critical(\"System is out of memory. Shutting down.\")"
   ]
  },
  {
   "cell_type": "code",
   "execution_count": 25,
   "id": "a34d4cf6",
   "metadata": {},
   "outputs": [
    {
     "name": "stderr",
     "output_type": "stream",
     "text": [
      "2023-06-28 00:46:10,125 - INFO - This is an informational message.\n"
     ]
    }
   ],
   "source": [
    "# 7. \n",
    "# What are log formatters in Python logging, and how can you customise the log\n",
    "# message format using formatters?\n",
    "# Ans. log formatters are used to define the format of log messages that are emitted by the logging system. \n",
    "# A log formatter determines how the log records are presented in the log output.\n",
    "\n",
    "# example below.\n",
    "\n",
    "import logging\n",
    "\n",
    "formatter = logging.Formatter(\"%(asctime)s - %(levelname)s - %(message)s\")\n",
    "\n",
    "handler = logging.StreamHandler()\n",
    "handler.setFormatter(formatter)\n",
    "\n",
    "logger = logging.getLogger()\n",
    "logger.addHandler(handler)\n",
    "logger.setLevel(logging.INFO)\n",
    "\n",
    "logger.info(\"This is an informational message.\")"
   ]
  },
  {
   "cell_type": "code",
   "execution_count": 26,
   "id": "c92dbefd",
   "metadata": {},
   "outputs": [
    {
     "name": "stderr",
     "output_type": "stream",
     "text": [
      "2023-06-28 00:53:16,706 - INFO - This is an informational message from the module.\n",
      "2023-06-28 00:53:16,706 - DEBUG - This is a debug message from the main application.\n",
      "2023-06-28 00:53:16,706 - ERROR - An error occurred in the main application.\n"
     ]
    }
   ],
   "source": [
    "# 8. How can you set up logging to capture log messages from multiple modules or\n",
    "# classes in a Python application?\n",
    "# Ans. \n",
    "\n",
    "import logging\n",
    "\n",
    "# logger for the main application\n",
    "logger = logging.getLogger(\"my_app\")\n",
    "logger.setLevel(logging.DEBUG)\n",
    "\n",
    "# file handler for writing log messages to a file\n",
    "file_handler = logging.FileHandler(\"app.log\")\n",
    "file_handler.setLevel(logging.DEBUG)\n",
    "\n",
    "# Creating a formatter\n",
    "formatter = logging.Formatter(\"%(asctime)s - %(name)s - %(levelname)s - %(message)s\")\n",
    "file_handler.setFormatter(formatter)\n",
    "\n",
    "# Add the file handler to the logger\n",
    "logger.addHandler(file_handler)\n",
    "\n",
    "# Creating alogger for a specific module or class\n",
    "module_logger = logging.getLogger(\"my_app.module\")\n",
    "module_logger.setLevel(logging.INFO)\n",
    "\n",
    "# Log messages from the module\n",
    "module_logger.info(\"This is an informational message from the module.\")\n",
    "\n",
    "# Log messages from the main application\n",
    "logger.debug(\"This is a debug message from the main application.\")\n",
    "logger.error(\"An error occurred in the main application.\")"
   ]
  },
  {
   "cell_type": "code",
   "execution_count": null,
   "id": "480383fd",
   "metadata": {},
   "outputs": [],
   "source": [
    "9. What is the difference between the logging and print statements in Python? When\n",
    "should you use logging over print statements in a real-world application?\n",
    "Ans.\n",
    "print statements can be handy for quick debugging during development or small scripts, \n",
    "the logging module offers a more robust and scalable approach for managing and capturing log messages in real-world applications.\n",
    "It provides better control, configurability, and maintainability.\n",
    "\n",
    "Output destination, Level of control, Runtime impact is different in normal print statement and logging\n"
   ]
  },
  {
   "cell_type": "code",
   "execution_count": 29,
   "id": "6c80112e",
   "metadata": {},
   "outputs": [
    {
     "name": "stderr",
     "output_type": "stream",
     "text": [
      "2023-06-28 01:01:37,787 - INFO - Hello, World!\n"
     ]
    }
   ],
   "source": [
    "# 10. Write a Python program that logs a message to a file named \"app.log\" with the\n",
    "# following requirements:\n",
    "# ● The log message should be \"Hello, World!\"\n",
    "# ● The log level should be set to \"INFO.\"\n",
    "# ● The log file should append new log entries without overwriting previous ones.\n",
    "# Ans.\n",
    "import logging\n",
    "\n",
    "# Create a logger\n",
    "logger = logging.getLogger(__name__)\n",
    "logger.setLevel(logging.INFO)\n",
    "\n",
    "# Create a file handler\n",
    "file_handler = logging.FileHandler(\"app.log\")\n",
    "file_handler.setLevel(logging.INFO)\n",
    "\n",
    "# Create a formatter\n",
    "formatter = logging.Formatter(\"%(asctime)s - %(levelname)s - %(message)s\")\n",
    "file_handler.setFormatter(formatter)\n",
    "\n",
    "# Add the file handler to the logger\n",
    "logger.addHandler(file_handler)\n",
    "\n",
    "# Log the message\n",
    "logger.info(\"Hello, World!\")\n"
   ]
  },
  {
   "cell_type": "code",
   "execution_count": 33,
   "id": "d8498736",
   "metadata": {},
   "outputs": [
    {
     "name": "stderr",
     "output_type": "stream",
     "text": [
      "2023-06-28 01:03:01,063 - ERROR - 2023-06-28 01:03:01 - Exception occurred: ZeroDivisionError\n"
     ]
    },
    {
     "name": "stdout",
     "output_type": "stream",
     "text": [
      "Exception occurred: ZeroDivisionError\n"
     ]
    }
   ],
   "source": [
    "# 11. Create a Python program that logs an error message to the console and a file named\n",
    "# \"errors.log\" if an exception occurs during the program's execution. The error\n",
    "# message should include the exception type and a timestamp.\n",
    "# Ans.\n",
    "import logging\n",
    "import datetime\n",
    "\n",
    "# Create a logger\n",
    "logger = logging.getLogger(__name__)\n",
    "logger.setLevel(logging.ERROR)\n",
    "\n",
    "# Create a file handler\n",
    "file_handler = logging.FileHandler(\"errors.log\")\n",
    "file_handler.setLevel(logging.ERROR)\n",
    "\n",
    "# Create a formatter\n",
    "formatter = logging.Formatter(\"%(asctime)s - %(levelname)s - %(message)s\")\n",
    "file_handler.setFormatter(formatter)\n",
    "\n",
    "# Add the file handler to the logger\n",
    "logger.addHandler(file_handler)\n",
    "\n",
    "try:\n",
    "    # Code that may raise an exception\n",
    "    result = 10 / 0  # Division by zero to generate an exception\n",
    "\n",
    "except Exception as e:\n",
    "    # Log the exception message\n",
    "    timestamp = datetime.datetime.now().strftime(\"%Y-%m-%d %H:%M:%S\")\n",
    "    error_message = f\"Exception occurred: {type(e).__name__}\"\n",
    "    logger.error(f\"{timestamp} - {error_message}\")\n",
    "\n",
    "    # Print the exception to the console\n",
    "    print(error_message)\n"
   ]
  },
  {
   "cell_type": "code",
   "execution_count": null,
   "id": "0e316d2a",
   "metadata": {},
   "outputs": [],
   "source": []
  },
  {
   "cell_type": "code",
   "execution_count": null,
   "id": "053cba2c",
   "metadata": {},
   "outputs": [],
   "source": []
  }
 ],
 "metadata": {
  "kernelspec": {
   "display_name": "Python 3 (ipykernel)",
   "language": "python",
   "name": "python3"
  },
  "language_info": {
   "codemirror_mode": {
    "name": "ipython",
    "version": 3
   },
   "file_extension": ".py",
   "mimetype": "text/x-python",
   "name": "python",
   "nbconvert_exporter": "python",
   "pygments_lexer": "ipython3",
   "version": "3.9.13"
  }
 },
 "nbformat": 4,
 "nbformat_minor": 5
}
