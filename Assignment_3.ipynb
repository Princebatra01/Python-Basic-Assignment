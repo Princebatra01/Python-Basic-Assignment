{
 "cells": [
  {
   "cell_type": "code",
   "execution_count": null,
   "id": "dcf034fa",
   "metadata": {},
   "outputs": [],
   "source": [
    "1. Why are functions advantageous to have in your programs?\n",
    "\n",
    "Enables reusability and reduces redundancy.\n",
    "Breaks an extensive program into smaller and simpler pieces.\n",
    "\n",
    "\n",
    "2. When does the code in a function run: when it's specified or when it's called?\n",
    "The code in a function executes when the function is called\n",
    "\n",
    "3. What statement creates a function?\n",
    "def function_name():\n",
    "\n",
    "4. What is the difference between a function and a function call?\n",
    "A function is a piece of code which enhances the reusability of your program. It means that whenever we want to use that code we do not to write that code again and again, we can simply call that function. A function call means executing the code.\n",
    "\n",
    "5. How many global scopes are there in a Python program? How many local scopes?\n",
    "There's only one global Python scope per program execution. There can be as many local scopes as we want to create\n",
    "\n",
    "6. What happens to variables in a local scope when the function call returns?\n",
    "the local variables are destroyed\n",
    "\n",
    "7. What is the concept of a return value? Is it possible to have a return value in an expression?\n",
    "A return is a value that a function returns to the calling script or function when it completes its task.\n",
    "It can't be used in any expression outside of a Python function but yes if we want to return an expression in a function, that expression will be evaluated first and then will be returned\n",
    "\n",
    "8. If a function does not have a return statement, what is the return value of a call to that function?\n",
    "None \n",
    "\n",
    "9. How do you make a function variable refer to the global variable?\n",
    "we can use the global keyword\n",
    "\n",
    "10. What is the data type of None?\n",
    "NoneType\n",
    "\n",
    "11. What does the sentence import areallyourpetsnamederic do?\n",
    " imports a module named areallyourpetsnamederic\n",
    "\n",
    "12. If you had a bacon() feature in a spam module, what would you call it after importing spam?\n",
    "spam. bacon()\n",
    "\n",
    "13. What can you do to save a programme from crashing if it encounters an error?\n",
    "we can use the try and except statements to handle exceptions.\n",
    "\n",
    "14. What is the purpose of the try clause? What is the purpose of the except clause?\n",
    "The try block lets you test a block of code for errors. The except block lets you handle the error.\n",
    "\n"
   ]
  }
 ],
 "metadata": {
  "kernelspec": {
   "display_name": "Python 3 (ipykernel)",
   "language": "python",
   "name": "python3"
  },
  "language_info": {
   "codemirror_mode": {
    "name": "ipython",
    "version": 3
   },
   "file_extension": ".py",
   "mimetype": "text/x-python",
   "name": "python",
   "nbconvert_exporter": "python",
   "pygments_lexer": "ipython3",
   "version": "3.9.13"
  }
 },
 "nbformat": 4,
 "nbformat_minor": 5
}
