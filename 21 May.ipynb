{
 "cells": [
  {
   "cell_type": "code",
   "execution_count": 2,
   "id": "2bfcb4fc",
   "metadata": {},
   "outputs": [
    {
     "name": "stdout",
     "output_type": "stream",
     "text": [
      "First variable is 20 & Second variable is 30\n",
      "Addition:20+30=50\n",
      "Subtraction:20-30=-10\n",
      "Multiplication:20*30=600\n",
      "Division:20/30=0.6666666666666666\n",
      "\n"
     ]
    }
   ],
   "source": [
    "\n",
    "# Q.1.Create two int type variables, apply addition, subtraction, division and multiplications and store the results in variables. The:n print the data in the following format by calling the variables:\n",
    "\n",
    "# First variable is__& second variable is __ \n",
    "# Addition:=  \n",
    "# Subtraction:=\n",
    "# Multiplication:=\n",
    "# Division:=\n",
    "\n",
    "num1= 20\n",
    "num2= 30\n",
    "print(f\"\"\"First variable is {num1} & Second variable is {num2}\n",
    "Addition:{num1}+{num2}={num1+num2}\n",
    "Subtraction:{num1}-{num2}={num1-num2}\n",
    "Multiplication:{num1}*{num2}={num1*num2}\n",
    "Division:{num1}/{num2}={num1/num2}\n",
    "\"\"\")\n",
    "\n"
   ]
  },
  {
   "cell_type": "code",
   "execution_count": null,
   "id": "0815daf6",
   "metadata": {},
   "outputs": [],
   "source": [
    "# Q.2.\tWhat is the difference between the following operators:\n",
    "# (i)\t‘/’ & ‘//’\n",
    "# (ii)\t‘**’ & ‘^’\n",
    "\n",
    "# And: (i) The first one is Float Division(\"/\"): it divides left hand operand by right hand operand and give the result with decimal places.\n",
    "# the second is Floor Division (\"//\"): it divides left hand operand by right hand operand and it removes the decimal places and returns the \n",
    "\n"
   ]
  },
  {
   "cell_type": "code",
   "execution_count": null,
   "id": "2557d9bc",
   "metadata": {},
   "outputs": [],
   "source": [
    "# Q.3.\tList the logical operators.\n",
    "# And, Or, Not"
   ]
  },
  {
   "cell_type": "code",
   "execution_count": null,
   "id": "4b8be03a",
   "metadata": {},
   "outputs": [],
   "source": [
    "\n",
    "# Q.4.\tExplain right shift operator and left shift operator with examples.\n",
    "# right shift: Shifts the bits of the number to the right and fills 0 on voids left( fills 1 in the case of a negative number) as a result. Similar effect as of dividing the number with some power of two.\n",
    "\n",
    "# Example 1:\n",
    "# a = 10 = 0000 1010 (Binary)\n",
    "# a >> 1 = 0000 0101 = 5\n",
    "# Example 2:\n",
    "# a = -10 = 1111 0110 (Binary)\n",
    "# a >> 1 = 1111 1011 = -5\n",
    "# left shift: Shifts the bits of the number to the left and fills 0 on voids right as a result. Similar effect as of multiplying the number with some power of two.\n",
    "# Example 1:\n",
    "# a = 5 = 0000 0101 (Binary)\n",
    "# a << 1 = 0000 1010 = 10\n",
    "# a << 2 = 0001 0100 = 20 \n",
    "\n",
    "# Example 2:\n",
    "# b = -10 = 1111 0110 (Binary)\n",
    "# b << 1 = 1110 1100 = -20\n",
    "# b << 2 = 1101 1000 = -40 \n",
    "\n"
   ]
  },
  {
   "cell_type": "code",
   "execution_count": 3,
   "id": "a7cf7e55",
   "metadata": {},
   "outputs": [
    {
     "name": "stdout",
     "output_type": "stream",
     "text": [
      "number 10 is not present in the list\n"
     ]
    }
   ],
   "source": [
    "# Q.5.Create a list containing int type data of length 15. Then write a code to check if 10 is present in the list or not.\n",
    "\n",
    "list = [1,2,3,4,5,6,5,7,8,11, 20,3,45,5]\n",
    "\n",
    "if 10 in list:\n",
    "    print(f'Number 10 is present at index {i} in list')\n",
    "else:\n",
    "    print('number 10 is not present in the list')\n"
   ]
  },
  {
   "cell_type": "code",
   "execution_count": null,
   "id": "c5bad7ca",
   "metadata": {},
   "outputs": [],
   "source": []
  },
  {
   "cell_type": "code",
   "execution_count": null,
   "id": "336e1cf9",
   "metadata": {},
   "outputs": [],
   "source": []
  },
  {
   "cell_type": "code",
   "execution_count": null,
   "id": "7b1d0e4a",
   "metadata": {},
   "outputs": [],
   "source": []
  },
  {
   "cell_type": "code",
   "execution_count": null,
   "id": "32f1b56a",
   "metadata": {},
   "outputs": [],
   "source": []
  },
  {
   "cell_type": "code",
   "execution_count": null,
   "id": "601f41a6",
   "metadata": {},
   "outputs": [],
   "source": []
  },
  {
   "cell_type": "code",
   "execution_count": null,
   "id": "4ce8b112",
   "metadata": {},
   "outputs": [],
   "source": []
  },
  {
   "cell_type": "code",
   "execution_count": null,
   "id": "685f1272",
   "metadata": {},
   "outputs": [],
   "source": []
  }
 ],
 "metadata": {
  "kernelspec": {
   "display_name": "Python 3 (ipykernel)",
   "language": "python",
   "name": "python3"
  },
  "language_info": {
   "codemirror_mode": {
    "name": "ipython",
    "version": 3
   },
   "file_extension": ".py",
   "mimetype": "text/x-python",
   "name": "python",
   "nbconvert_exporter": "python",
   "pygments_lexer": "ipython3",
   "version": "3.9.13"
  }
 },
 "nbformat": 4,
 "nbformat_minor": 5
}
